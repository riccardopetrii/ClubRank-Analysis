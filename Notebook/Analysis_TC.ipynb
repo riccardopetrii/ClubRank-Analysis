{
 "cells": [
  {
   "cell_type": "code",
   "execution_count": 1,
   "id": "24d2e436-4ba5-47ea-ad64-53a274fabb36",
   "metadata": {
    "editable": true,
    "jupyter": {
     "source_hidden": true
    },
    "slideshow": {
     "slide_type": "slide"
    },
    "tags": []
   },
   "outputs": [
    {
     "data": {
      "text/html": [
       "<link rel=\"stylesheet\" type=\"text/css\" href=\"style.css\">\n"
      ],
      "text/plain": [
       "<IPython.core.display.HTML object>"
      ]
     },
     "metadata": {},
     "output_type": "display_data"
    }
   ],
   "source": [
    "%%HTML\n",
    "<link rel=\"stylesheet\" type=\"text/css\" href=\"style.css\">"
   ]
  },
  {
   "cell_type": "markdown",
   "id": "6de5ff04-7c28-47ad-94bd-917a148bab8b",
   "metadata": {
    "editable": true,
    "slideshow": {
     "slide_type": ""
    },
    "tags": [
     "heading"
    ]
   },
   "source": [
    "<h3 style=\"margin-bottom: 0px;\">Riccardo Petri</h3>\n",
    "<p style=\"margin-top: 0px;\">Matricola 167623</p>\n",
    "<h2 style=\"font-size: xxx-large;\"><b>Fondamenti Di Scienza Dei Dati<br>E Laboratorio</b></h2>\n",
    "<div style=\"padding-top: 5px; font-size: medium;\">\n",
    "    <h3 style=\"padding-bottom: 0px;\">Modulo: <b>Presentazione del progetto</b></h3>\n",
    "    <h3>Topic: <b style=\"color: #FFA500;\">DJ Mag Top 100 Club: Trend e Cambiamenti</b></h3>\n",
    "</div>\n",
    "<p style=\"padding-top: 35px;\">Premi <button>Esc</button> in qualsiasi momento per vedere la mappa di navigazione</p>"
   ]
  },
  {
   "cell_type": "markdown",
   "id": "d9ccfdd8-979f-47bb-8f10-5fca86157f7a",
   "metadata": {
    "editable": true,
    "slideshow": {
     "slide_type": "slide"
    },
    "tags": []
   },
   "source": [
    "<h2>1. Radici del progetto</h2>\n",
    "<h3>Motivazioni della ricerca</h3>\n",
    "<ul>\n",
    "    <li>Interesse verso l'industria dell'intrattenimento notturno 🌒</li>\n",
    "    <li>Importanza economica e culturale dei club nelle città</li>\n",
    "    <ul>\n",
    "        <li><i style=\"color: #FFA500;\">La techno berlinese diventa patrimonio immateriale dell’Unesco (2024)</i></li>\n",
    "    </ul>\n",
    "</ul>"
   ]
  },
  {
   "cell_type": "markdown",
   "id": "37fcdec3-4887-4b67-9406-fbfc8aca513c",
   "metadata": {
    "editable": true,
    "slideshow": {
     "slide_type": "fragment"
    },
    "tags": []
   },
   "source": [
    "<h3 style=\"padding-top: 10px;\">Origine dell'interesse nel settore</h3>\n",
    "<ul>\n",
    "    <li>Passione per la musica elettronica e gli eventi dal vivo</li>\n",
    "    <li>Esperienze dirette frequentando alcuni club di fama mondiale</li>\n",
    "    <li>Passione per il campo del DJing e della produzione musicale 🎧🎵</li>\n",
    "</ul>"
   ]
  },
  {
   "cell_type": "markdown",
   "id": "83695600-72bd-4b4d-97d5-1137efa92700",
   "metadata": {
    "editable": true,
    "slideshow": {
     "slide_type": "subslide"
    },
    "tags": []
   },
   "source": [
    "<h3>Focus dell'analisi 🔍</h3>\n",
    "<ul>\n",
    "    <li>Quali sono le tendenze emergenti nel panorama dei club?</li>\n",
    "</ul>"
   ]
  },
  {
   "cell_type": "markdown",
   "id": "7d12c8a8-f19f-4d97-ad6f-9cd500dc3d71",
   "metadata": {
    "editable": true,
    "slideshow": {
     "slide_type": "fragment"
    },
    "tags": []
   },
   "source": [
    "<ul>\n",
    "    <li>Come è evoluta la classifica dei top 100 club dal 2018 al 2024?</li>\n",
    "</ul>"
   ]
  },
  {
   "cell_type": "markdown",
   "id": "86815581-6f67-4485-83aa-9b23af502beb",
   "metadata": {
    "editable": true,
    "slideshow": {
     "slide_type": "fragment"
    },
    "tags": []
   },
   "source": [
    "<ul>\n",
    "    <li>Come è variata la distribuzione geografica dei club negli anni?</li>\n",
    "</ul>"
   ]
  },
  {
   "cell_type": "markdown",
   "id": "0b00959f-2fed-4be5-ae92-a2538d8b6488",
   "metadata": {
    "editable": true,
    "slideshow": {
     "slide_type": "fragment"
    },
    "tags": []
   },
   "source": [
    "<ul>\n",
    "    <li>TODO</li>\n",
    "</ul>"
   ]
  },
  {
   "cell_type": "markdown",
   "id": "6e887b40-f33c-4d27-a59e-9db2af067401",
   "metadata": {
    "editable": true,
    "slideshow": {
     "slide_type": "slide"
    },
    "tags": []
   },
   "source": [
    "<h2>2. Descrizione dei dati</h2>\n",
    "<p>I dati utilizzati provengono dalla classifica realizzata da<br>DJ Magazine dei top 100 club (al mondo) dal 2018 al 2024 🌍</p>\n",
    "<ul>\n",
    "    <li>Il dataset contiene informazioni su:</li>\n",
    "    <ul>\n",
    "        <li>Posizione in classifica</li>\n",
    "        <li>Nome del club</li>\n",
    "        <li>Città e altre metriche rilevanti</li>\n",
    "    </ul>\n",
    "</ul>"
   ]
  },
  {
   "cell_type": "markdown",
   "id": "9cddd2cf-e344-422b-b7eb-51166f9cc75d",
   "metadata": {
    "editable": true,
    "slideshow": {
     "slide_type": "fragment"
    },
    "tags": []
   },
   "source": [
    "<ul style=\"margin-top: 1em;\">\n",
    "    <li>Alcuni dati che sarebbero stati interessanti includono:</li>\n",
    "    <ul>\n",
    "        <li>Specifiche demografiche dei frequentatori</li>\n",
    "        <li>Entrate finanziarie 💰</li>\n",
    "        <li>Genere musicale principale</li>\n",
    "    </ul>\n",
    "</ul>"
   ]
  },
  {
   "cell_type": "markdown",
   "id": "ea3759d7-bb2f-41a6-b720-ae8509fafad0",
   "metadata": {
    "editable": true,
    "slideshow": {
     "slide_type": "subslide"
    },
    "tags": []
   },
   "source": [
    "<h3>Campione parziale del dataset 📊</h3>\n",
    "<p style=\"padding-top: 10px; padding-bottom: 10px;\">Attenzione! Alcune colonne sono state omesse<br>per motivi di spazio e/o perchè poco utili a livello esemplificativo</p>"
   ]
  },
  {
   "cell_type": "code",
   "execution_count": 2,
   "id": "a9004e56-fb82-4139-9e00-af780b952e55",
   "metadata": {
    "editable": true,
    "jupyter": {
     "source_hidden": true
    },
    "slideshow": {
     "slide_type": ""
    },
    "tags": []
   },
   "outputs": [
    {
     "data": {
      "text/html": [
       "<div>\n",
       "<style scoped>\n",
       "    .dataframe tbody tr th:only-of-type {\n",
       "        vertical-align: middle;\n",
       "    }\n",
       "\n",
       "    .dataframe tbody tr th {\n",
       "        vertical-align: top;\n",
       "    }\n",
       "\n",
       "    .dataframe thead th {\n",
       "        text-align: right;\n",
       "    }\n",
       "</style>\n",
       "<table border=\"1\" class=\"dataframe\">\n",
       "  <thead>\n",
       "    <tr style=\"text-align: right;\">\n",
       "      <th></th>\n",
       "      <th>rank</th>\n",
       "      <th>name</th>\n",
       "      <th>city</th>\n",
       "      <th>country</th>\n",
       "      <th>lat</th>\n",
       "      <th>lng</th>\n",
       "      <th>capacity</th>\n",
       "      <th>year</th>\n",
       "    </tr>\n",
       "  </thead>\n",
       "  <tbody>\n",
       "    <tr>\n",
       "      <th>0</th>\n",
       "      <td>1</td>\n",
       "      <td>Green Valley</td>\n",
       "      <td>Camboriú</td>\n",
       "      <td>Brazil</td>\n",
       "      <td>-27.02736</td>\n",
       "      <td>-48.653566</td>\n",
       "      <td>12000</td>\n",
       "      <td>2018</td>\n",
       "    </tr>\n",
       "    <tr>\n",
       "      <th>1</th>\n",
       "      <td>2</td>\n",
       "      <td>Ushuaïa Ibiza</td>\n",
       "      <td>Playa D’en Bossa</td>\n",
       "      <td>Ibiza</td>\n",
       "      <td>38.896173</td>\n",
       "      <td>1.415486</td>\n",
       "      <td>5000</td>\n",
       "      <td>2018</td>\n",
       "    </tr>\n",
       "    <tr>\n",
       "      <th>2</th>\n",
       "      <td>3</td>\n",
       "      <td>Zouk Singapore</td>\n",
       "      <td>Singapore</td>\n",
       "      <td>Unknown</td>\n",
       "      <td>1.357107</td>\n",
       "      <td>103.819499</td>\n",
       "      <td>2600</td>\n",
       "      <td>2018</td>\n",
       "    </tr>\n",
       "    <tr>\n",
       "      <th>3</th>\n",
       "      <td>4</td>\n",
       "      <td>Echostage</td>\n",
       "      <td>Washington</td>\n",
       "      <td>D.C.</td>\n",
       "      <td>38.895037</td>\n",
       "      <td>-77.036543</td>\n",
       "      <td>3000</td>\n",
       "      <td>2018</td>\n",
       "    </tr>\n",
       "    <tr>\n",
       "      <th>4</th>\n",
       "      <td>5</td>\n",
       "      <td>Hï Ibiza</td>\n",
       "      <td>Ibiza</td>\n",
       "      <td>Spain</td>\n",
       "      <td>38.97439</td>\n",
       "      <td>1.419746</td>\n",
       "      <td>3000</td>\n",
       "      <td>2018</td>\n",
       "    </tr>\n",
       "  </tbody>\n",
       "</table>\n",
       "</div>"
      ],
      "text/plain": [
       "   rank            name              city  country        lat         lng  \\\n",
       "0     1    Green Valley          Camboriú   Brazil  -27.02736  -48.653566   \n",
       "1     2   Ushuaïa Ibiza  Playa D’en Bossa    Ibiza  38.896173    1.415486   \n",
       "2     3  Zouk Singapore         Singapore  Unknown   1.357107  103.819499   \n",
       "3     4       Echostage        Washington     D.C.  38.895037  -77.036543   \n",
       "4     5        Hï Ibiza             Ibiza    Spain   38.97439    1.419746   \n",
       "\n",
       "  capacity  year  \n",
       "0    12000  2018  \n",
       "1     5000  2018  \n",
       "2     2600  2018  \n",
       "3     3000  2018  \n",
       "4     3000  2018  "
      ]
     },
     "metadata": {},
     "output_type": "display_data"
    }
   ],
   "source": [
    "import numpy as np\n",
    "import pandas as pd\n",
    "\n",
    "import matplotlib.pyplot as plt\n",
    "import matplotlib.ticker as ticker\n",
    "\n",
    "df = pd.read_json('datasets/top_clubs_2018_2024_fixed.json')\n",
    "partial_df = df.drop(['arrow', 'numpos'], axis=1).head(5)\n",
    "\n",
    "display(partial_df)"
   ]
  },
  {
   "cell_type": "markdown",
   "id": "030edf07-96d2-4ad5-95c4-9ee9765bbf2a",
   "metadata": {
    "editable": true,
    "slideshow": {
     "slide_type": ""
    },
    "tags": []
   },
   "source": [
    "<p>ecc.</p>\n",
    "\n",
    "<p>L'ultima modifica al <i>dataset</i> risale al 10/06/2024</p>"
   ]
  },
  {
   "cell_type": "markdown",
   "id": "a2c746a3-e101-4af8-8027-fd1848335eb8",
   "metadata": {
    "editable": true,
    "slideshow": {
     "slide_type": "subslide"
    },
    "tags": []
   },
   "source": [
    "<h3>Come sono stati ottenuti questi dati <i style=\"color: #FFA500;\">step-by-step</i></h3>\n",
    "<ul>\n",
    "    <li>🔍 Analisi della struttura del sito web</li>\n",
    "    <ul>\n",
    "        <li>URL: djmag.com/top100clubs/{year}</li>\n",
    "    </ul>\n",
    "</ul>"
   ]
  },
  {
   "cell_type": "markdown",
   "id": "5afbaea0-17dc-4686-8d37-765ea9b90b94",
   "metadata": {
    "editable": true,
    "slideshow": {
     "slide_type": "fragment"
    },
    "tags": []
   },
   "source": [
    "<ul>\n",
    "    <li>🛠️ Realizzazione di un <i style=\"color: #FFA500;\">web scraper</i></li>\n",
    "    <ul>\n",
    "        <li>Raccolta e normalizzazione dei dati in un file JSON</li></li>\n",
    "    </ul>\n",
    "</ul>"
   ]
  },
  {
   "cell_type": "markdown",
   "id": "2067c32c-d856-4c6e-8329-782f864f0733",
   "metadata": {
    "editable": true,
    "slideshow": {
     "slide_type": "fragment"
    },
    "tags": []
   },
   "source": [
    "<ul>\n",
    "    <li>📝 Normalizzazione manuale</li>\n",
    "    <ul>\n",
    "        <li>Aggiustamenti necessari post-raccolta</li>\n",
    "    </ul>\n",
    "</ul>\n",
    "\n",
    "<p style=\"padding-top:10px;\">Il <i>dataset</i> e il <i>codice sorgente</i> del web scraper sono reperibili online sulla pagina GitHub @riccardopetrii</p>"
   ]
  },
  {
   "cell_type": "markdown",
   "id": "1b8d765e-da1e-48da-bec4-21c1e8020132",
   "metadata": {
    "editable": true,
    "slideshow": {
     "slide_type": "slide"
    },
    "tags": []
   },
   "source": [
    "<h2>3. Analisi effettuata</h2>\n",
    "<h3>Indice</h3>\n",
    "<ul>\n",
    "    <li>3.1 Qual'è il club in tendenza degli ultimi anni?</li>\n",
    "    <ul>\n",
    "        <li>Quale invece ha avuto la maggior regressione?</li>\n",
    "    </ul>\n",
    "    <li>3.2 Come si è evoluta la classifica negli anni?</li>\n",
    "    <ul>\n",
    "        <li>Qual'è stato l'andamento delle 'New entry' e \"Re-entry'?</li>\n",
    "    </ul>\n",
    "    <li>3.3 Cosa evidenzia la distribuzione geografica dei club dal 2018 al 2024?</li>\n",
    "    <li>3.4 TODO</li>\n",
    "</ul>"
   ]
  },
  {
   "cell_type": "markdown",
   "id": "9a558e3d-e731-4eab-97e3-d257e76f724e",
   "metadata": {
    "editable": true,
    "slideshow": {
     "slide_type": "slide"
    },
    "tags": []
   },
   "source": [
    "<h2>3.1 Club in tendenza 🪩</h2>\n",
    "<p style=\"padding-bottom: 0px !important;\">Il club in tendenza degli ultimi anni è <i>'Studio 338'</i> con una differenza di 70 posizioni</p>"
   ]
  },
  {
   "cell_type": "code",
   "execution_count": 3,
   "id": "3567678d-85a9-421c-9a93-f7f94a0becba",
   "metadata": {
    "editable": true,
    "jupyter": {
     "source_hidden": true
    },
    "slideshow": {
     "slide_type": ""
    },
    "tags": []
   },
   "outputs": [],
   "source": [
    "# invalid parsing will be set as NaN\n",
    "df['rank'] = pd.to_numeric(df['rank'], errors='coerce') \n",
    "df['numpos'] = pd.to_numeric(df['numpos'], errors='coerce')\n",
    "df['year'] = pd.to_numeric(df['year'], errors='coerce')\n",
    "\n",
    "df = df.dropna(subset=['rank', 'name', 'year']) # drop every NaN\n",
    "\n",
    "# foreach club get rank of the first and last avaiable year\n",
    "initial_positions = df.sort_values(by='year').groupby('name')['rank'].first()\n",
    "final_positions = df.sort_values(by='year').groupby('name')['rank'].last()\n",
    "\n",
    "position_change = initial_positions - final_positions # this value can be negative\n",
    "\n",
    "max_climb_club = position_change.idxmax() # return index of the maximum value (name)\n",
    "max_climb_value = position_change.max() # return the maximum value (num of positions)"
   ]
  },
  {
   "cell_type": "code",
   "execution_count": 4,
   "id": "ae073c2b-0d3a-4a84-8ab6-367303a49531",
   "metadata": {
    "editable": true,
    "jupyter": {
     "source_hidden": true
    },
    "slideshow": {
     "slide_type": ""
    },
    "tags": []
   },
   "outputs": [
    {
     "data": {
      "image/png": "[encoded data removed]",
      "text/plain": [
       "<Figure size 900x500 with 1 Axes>"
      ]
     },
     "metadata": {},
     "output_type": "display_data"
    }
   ],
   "source": [
    "# draw graph\n",
    "max_climb_club_df = df[df['name'] == max_climb_club] # 'history' of the club\n",
    "\n",
    "plt.figure(figsize=(9, 5))\n",
    "plt.margins(0.15, 0.05) # default value 0.05\n",
    "\n",
    "# linear trendline\n",
    "z = np.polyfit(max_climb_club_df['year'], max_climb_club_df['rank'], 1) # calculate coefficients (m, q)\n",
    "p = np.poly1d(z) # create a polynomial from coefficients (y = mx + q)\n",
    "\n",
    "plt.plot(max_climb_club_df['year'], p(max_climb_club_df['year']), linestyle='--', color=\"#ffc353\", label='Tendenza')\n",
    "plt.plot(max_climb_club_df['year'], max_climb_club_df['rank'], marker='o', linestyle='-', color='navy')\n",
    "\n",
    "# place labels for every dot\n",
    "for x, y in zip(max_climb_club_df['year'], max_climb_club_df['rank']):\n",
    "    plt.text(x+.06, y+0.09, y, ha='left', va='top', fontsize='small')\n",
    "\n",
    "plt.title(f\"Nome del club: {max_climb_club}\")\n",
    "plt.xlabel(\"Anno\")\n",
    "plt.ylabel(\"Posizione in classifica\")\n",
    "plt.gca().invert_yaxis()\n",
    "plt.grid(color='lightgray', linewidth = 0.5)\n",
    "\n",
    "rank_diff = np.abs(np.diff(max_climb_club_df['rank'].to_numpy())) # AAAAAAAAAA\n",
    "max_diff_index = np.argmax(rank_diff) # AAAAAAAAAA\n",
    "\n",
    "start_year = max_climb_club_df.iloc[max_diff_index]['year'] # AAAAAAAAAA\n",
    "end_year = max_climb_club_df.iloc[max_diff_index + 1]['year'] # AAAAAAAAAA\n",
    "\n",
    "plt.axvspan(start_year, end_year, color='gray', alpha=0.2, label=\"Massimo\")\n",
    "\n",
    "plt.legend()\n",
    "plt.show()"
   ]
  },
  {
   "cell_type": "markdown",
   "id": "1656068a-bacd-4426-97f8-fad6ed197cac",
   "metadata": {
    "editable": true,
    "slideshow": {
     "slide_type": "subslide"
    },
    "tags": []
   },
   "source": [
    "<h2>Maggior regressione 📉</h2>\n",
    "<p style=\"padding-bottom: 0px !important;\">Il club con la maggior regressione degli ultimi anni è <i>'EGG LDN'</i> con una differenza di 60 posizioni</p>"
   ]
  },
  {
   "cell_type": "code",
   "execution_count": 5,
   "id": "6e0a40e4-2779-4e74-b756-0ffe0b7ced1a",
   "metadata": {
    "editable": true,
    "jupyter": {
     "source_hidden": true
    },
    "slideshow": {
     "slide_type": ""
    },
    "tags": []
   },
   "outputs": [],
   "source": [
    "min_climb_club = position_change.idxmin() # return index of the minimum value (name)\n",
    "min_climb_value = position_change.min() # return the minimum value (num of positions)"
   ]
  },
  {
   "cell_type": "code",
   "execution_count": 6,
   "id": "dd105664-6f8e-4f5e-ac82-cd76f63bfb2b",
   "metadata": {
    "editable": true,
    "jupyter": {
     "source_hidden": true
    },
    "slideshow": {
     "slide_type": ""
    },
    "tags": []
   },
   "outputs": [
    {
     "data": {
      "image/png": "[encoded data removed]",
      "text/plain": [
       "<Figure size 900x500 with 1 Axes>"
      ]
     },
     "metadata": {},
     "output_type": "display_data"
    }
   ],
   "source": [
    "# draw graph\n",
    "min_climb_club_df = df[df['name'] == min_climb_club]\n",
    "\n",
    "plt.figure(figsize=(9, 5))\n",
    "plt.margins(0.15, 0.05) # default value 0.05\n",
    "\n",
    "# trendline\n",
    "z = np.polyfit(min_climb_club_df['year'], min_climb_club_df['rank'], 1) # calculate coefficients (m, q)\n",
    "p = np.poly1d(z) # create a polynomial from coefficients (y = mx + q)\n",
    "\n",
    "plt.plot(min_climb_club_df['year'], p(min_climb_club_df['year']), linestyle='--', color=\"#ffc353\", label='Tendenza')\n",
    "plt.plot(min_climb_club_df['year'], min_climb_club_df['rank'], marker='o', linestyle='-', color='navy')\n",
    "\n",
    "for x, y in zip(min_climb_club_df['year'], min_climb_club_df['rank']):\n",
    "    plt.text(x-.06, y+.09, y, ha='right', va='top', fontsize='small')\n",
    "\n",
    "plt.gca().xaxis.set_major_locator(ticker.FixedLocator(min_climb_club_df['year'])) # fix x axis\n",
    "\n",
    "plt.title(f\"Nome del club: {min_climb_club}\")\n",
    "plt.xlabel(\"Anno\")\n",
    "plt.ylabel(\"Posizione in classifica\")\n",
    "plt.gca().invert_yaxis()\n",
    "plt.grid(color='lightgray', linewidth = 0.5)\n",
    "\n",
    "rank_diff = np.abs(np.diff(min_climb_club_df['rank'].to_numpy())) # AAAAAAAAAA\n",
    "min_diff_index = np.argmax(rank_diff) # AAAAAAAAAA\n",
    "\n",
    "start_year = min_climb_club_df.iloc[min_diff_index]['year'] # AAAAAAAAAA\n",
    "end_year = min_climb_club_df.iloc[min_diff_index + 1]['year'] # AAAAAAAAAA\n",
    "\n",
    "plt.axvspan(start_year, end_year, color='gray', alpha=0.2, label=\"Minimo\")\n",
    "plt.axvspan(2021, 2022, color='lightcoral', alpha=0.2, label=\"Fuori classifica\") # manually checked\n",
    "\n",
    "plt.legend()\n",
    "plt.show()"
   ]
  },
  {
   "cell_type": "code",
   "execution_count": 7,
   "id": "686c92e4-75c9-44ba-8977-affa91250ae9",
   "metadata": {
    "jupyter": {
     "source_hidden": true
    }
   },
   "outputs": [
    {
     "name": "stdout",
     "output_type": "stream",
     "text": [
      "Top 10 Club in Tendenza: \n",
      "1. Studio 338 (UK): 70\n",
      "2. Club Space (Florida): 65\n",
      "3. Surreal Park (Brazil): 56\n",
      "4. Boomerang (Unknown): 55\n",
      "5. 1/3 One Third (China): 43\n",
      "6. The Grand Factory (Lebanon): 42\n",
      "7. Illuzion (Phuket): 37\n",
      "8. Nitsa (Spain): 36\n",
      "9. The Grand (MA): 35\n",
      "10. Warehouse (France): 34\n"
     ]
    }
   ],
   "source": [
    "position_change_df = position_change.reset_index()\n",
    "position_change_df.columns = ['name', 'position_change']\n",
    "\n",
    "countries = df[['name', 'country']].drop_duplicates(subset=['name'], keep='first')\n",
    "position_change_with_country = pd.merge(position_change_df, countries, on='name', how='left')\n",
    "top10_clubs = position_change_with_country.nlargest(10, 'position_change')\n",
    "\n",
    "print(\"Top 10 Club in Tendenza: \")\n",
    "i = 1\n",
    "for _, row in top10_clubs.iterrows():\n",
    "    print(f\"{i}. {row['name']} ({row['country']}): {row['position_change']}\")\n",
    "    i += 1"
   ]
  },
  {
   "cell_type": "markdown",
   "id": "50a09e72-e07a-416a-ad20-3fca315b97c8",
   "metadata": {
    "editable": true,
    "slideshow": {
     "slide_type": "slide"
    },
    "tags": []
   },
   "source": [
    "<h2>3.2 Analisi dei movimenti in classifica</h2>\n",
    "<p style=\"padding-bottom: 0px !important;\">Nel 2019 è stato registrato il maggior numero di club saliti di posizione (53);<br>nel 2021 e 2023, il maggior numero di club scesi di posizione (40);<br>nel 2022, il maggior numero di club che hanno mantenuto la loro posizione (5)</p>"
   ]
  },
  {
   "cell_type": "code",
   "execution_count": 8,
   "id": "5162b9d0-3823-4aac-91d6-62bb48f4bd58",
   "metadata": {
    "editable": true,
    "jupyter": {
     "source_hidden": true
    },
    "slideshow": {
     "slide_type": ""
    },
    "tags": []
   },
   "outputs": [
    {
     "data": {
      "image/png": "[encoded data removed]",
      "text/plain": [
       "<Figure size 800x400 with 1 Axes>"
      ]
     },
     "metadata": {},
     "output_type": "display_data"
    }
   ],
   "source": [
    "pos_up = df[df['arrow'] == 'up'].groupby('year').size()\n",
    "pos_down = df[df['arrow'] == 'down'].groupby('year').size()\n",
    "pos_nm = df[(df['arrow'] == 'Undefined') & (df['numpos'] == 'NON MOVER')].groupby('year').size()\n",
    "\n",
    "years = df['year'].unique()\n",
    "years.sort()\n",
    "\n",
    "up_counts = [pos_up.get(year, 0) for year in years]\n",
    "down_counts = [pos_down.get(year, 0) for year in years]\n",
    "nm_counts = [pos_nm.get(year, 0) for year in years]\n",
    "\n",
    "barWidth = 0.25\n",
    "fig, ax = plt.subplots(figsize =(8, 4))\n",
    "\n",
    "br1 = np.arange(len(years))\n",
    "br2 = [x + barWidth for x in br1]\n",
    "br3 = [x + barWidth for x in br2]\n",
    "\n",
    "plt.bar(br1, up_counts, color = '#3e2699', width = barWidth, edgecolor ='grey', label ='Saliti')\n",
    "plt.bar(br2, down_counts, color ='#b594d3', width = barWidth, edgecolor ='grey', label ='Discesi')\n",
    "plt.bar(br3, nm_counts, color = '#D0C0B0', width = barWidth, edgecolor ='grey', label ='Stabili')\n",
    "\n",
    "plt.xlabel('Anno')\n",
    "plt.ylabel('Numero di club')\n",
    "plt.xticks([r + barWidth/2 for r in range(len(years))], years)\n",
    "\n",
    "plt.legend()\n",
    "plt.tight_layout()\n",
    "plt.show()"
   ]
  },
  {
   "cell_type": "markdown",
   "id": "0a0e0d34-6d5f-42d6-a563-2c16fe45bcb1",
   "metadata": {
    "editable": true,
    "slideshow": {
     "slide_type": "subslide"
    },
    "tags": []
   },
   "source": [
    "<h2>Andamento delle <i>'New entry'</i> e <i>'Re-entry'</i></h2>\n",
    "<p style=\"padding-bottom: 0px !important;\">L'anno in cui è stato registrato il maggior numero<br>di 'New entry' (nuovi ingressi) è il 2020, mentre per i 'Re-entry' (rientri) è il 2018</p>"
   ]
  },
  {
   "cell_type": "code",
   "execution_count": 9,
   "id": "5d42c328-5001-43a8-9376-4ffccb145673",
   "metadata": {
    "editable": true,
    "jupyter": {
     "source_hidden": true
    },
    "slideshow": {
     "slide_type": ""
    },
    "tags": []
   },
   "outputs": [
    {
     "data": {
      "image/png": "[encoded data removed]",
      "text/plain": [
       "<Figure size 800x400 with 1 Axes>"
      ]
     },
     "metadata": {},
     "output_type": "display_data"
    }
   ],
   "source": [
    "df = pd.read_json('datasets/top_clubs_2018_2024_fixed.json') # temp\n",
    "\n",
    "new_entries = df[df['numpos'] == 'new entry'].groupby('year').size()\n",
    "re_entries = df[df['numpos'] == 're-entry'].groupby('year').size()\n",
    "\n",
    "years = df['year'].unique()\n",
    "years.sort()\n",
    "\n",
    "new_entries_counts = [new_entries.get(year, 0) for year in years]\n",
    "re_entries_counts = [re_entries.get(year, 0) for year in years]\n",
    "\n",
    "barWidth = 0.25\n",
    "fig, ax = plt.subplots(figsize =(8, 4))\n",
    "\n",
    "br1 = np.arange(len(years))\n",
    "br2 = [x + barWidth for x in br1]\n",
    "\n",
    "plt.bar(br1, new_entries_counts, color ='#004c6d', width = barWidth, edgecolor ='grey', label ='New entry')\n",
    "plt.bar(br2, re_entries_counts, color ='#9dc6e0', width = barWidth, edgecolor ='grey', label ='Re-entry')\n",
    "\n",
    "plt.xlabel('Anno')\n",
    "plt.ylabel('Numero di club')\n",
    "plt.xticks([r + barWidth/2 for r in range(len(years))], years)\n",
    "\n",
    "plt.legend()\n",
    "plt.tight_layout()\n",
    "plt.show()"
   ]
  },
  {
   "cell_type": "markdown",
   "id": "d8c47a55-009a-487c-bf41-cfa26da05441",
   "metadata": {
    "editable": true,
    "slideshow": {
     "slide_type": "slide"
    },
    "tags": []
   },
   "source": [
    "<h2>3.3 Distribuzione geografica dei club</h2>\n",
    "<p style=\"padding-bottom: 0px !important;\">La maggior concentrazione di club in classifica negli ultimi anni si trova in Europa e Regno Unito</p>"
   ]
  },
  {
   "cell_type": "markdown",
   "id": "119606ff-a218-4511-8deb-71bf411e2f36",
   "metadata": {
    "editable": true,
    "slideshow": {
     "slide_type": ""
    },
    "tags": []
   },
   "source": [
    "<script>\n",
    "    function showVal(newVal) {\n",
    "        document.getElementById(\"range\").textContent = newVal;\n",
    "        document.getElementById(\"img\").src = `imgs/img_${newVal}.png`;\n",
    "    }\n",
    "    \n",
    "    document.addEventListener('DOMContentLoaded', (event) => {\n",
    "        const slider = document.getElementById(\"valR\");\n",
    "        slider.addEventListener(\"input\", (event) => showVal(event.target.value));\n",
    "        showVal(slider.value);\n",
    "    });\n",
    "</script>\n",
    "\n",
    "<div class=\"container\">\n",
    "    <div class=\"slider-container\">\n",
    "        <input id=\"valR\" type=\"range\" min=\"2018\" max=\"2024\" value=\"2018\" oninput=\"showVal(this.value)\" />\n",
    "        <span id=\"range\">2018</span>\n",
    "    </div>\n",
    "    <img id=\"img\" src=\"imgs/img_2018.png\" alt=\"Image for the selected year\">\n",
    "</div>"
   ]
  },
  {
   "cell_type": "markdown",
   "id": "d87812f6-300f-47fa-84f8-8637665cf747",
   "metadata": {
    "editable": true,
    "slideshow": {
     "slide_type": "slide"
    },
    "tags": []
   },
   "source": [
    "<h2>4. Conclusioni e valutazioni finali</h2>\n",
    "<p>Cosa abbiamo imparato e/o scoperto?</p>\n",
    "<p>ASDASDASD</p>\n",
    "<p>ASDASDASD</p>"
   ]
  }
 ],
 "metadata": {
  "kernelspec": {
   "display_name": "Python 3 (ipykernel)",
   "language": "python",
   "name": "python3"
  },
  "language_info": {
   "codemirror_mode": {
    "name": "ipython",
    "version": 3
   },
   "file_extension": ".py",
   "mimetype": "text/x-python",
   "name": "python",
   "nbconvert_exporter": "python",
   "pygments_lexer": "ipython3",
   "version": "3.12.4"
  }
 },
 "nbformat": 4,
 "nbformat_minor": 5
}
