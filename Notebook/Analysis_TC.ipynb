{
 "cells": [
  {
   "cell_type": "code",
   "execution_count": 1,
   "id": "24d2e436-4ba5-47ea-ad64-53a274fabb36",
   "metadata": {
    "editable": true,
    "jupyter": {
     "source_hidden": true
    },
    "slideshow": {
     "slide_type": "slide"
    },
    "tags": []
   },
   "outputs": [
    {
     "data": {
      "text/html": [
       "<link rel=\"stylesheet\" type=\"text/css\" href=\"style.css\">\n"
      ],
      "text/plain": [
       "<IPython.core.display.HTML object>"
      ]
     },
     "metadata": {},
     "output_type": "display_data"
    }
   ],
   "source": [
    "%%HTML\n",
    "<link rel=\"stylesheet\" type=\"text/css\" href=\"style.css\">"
   ]
  },
  {
   "cell_type": "markdown",
   "id": "6de5ff04-7c28-47ad-94bd-917a148bab8b",
   "metadata": {
    "editable": true,
    "slideshow": {
     "slide_type": ""
    },
    "tags": [
     "heading"
    ]
   },
   "source": [
    "<h3 style=\"margin-bottom: 0px;\">Riccardo Petri</h3>\n",
    "<p style=\"margin-top: 0px;\">Matricola 167623</p>\n",
    "<h2 style=\"font-size: xxx-large;\"><b>Fondamenti Di Scienza Dei Dati<br>E Laboratorio</b></h2>\n",
    "<div style=\"padding-top: 5px; font-size: medium;\">\n",
    "    <h3 style=\"padding-bottom: 0px;\">Modulo: <b>Presentazione del progetto</b></h3>\n",
    "    <h3>Topic: <b style=\"color: #FFA500;\">DJ Mag Top 100 Club: Trend e Cambiamenti</b></h3>\n",
    "</div>\n",
    "<p style=\"padding-top: 35px;\">Premi <button>Esc</button> in qualsiasi momento per vedere la mappa di navigazione</p>"
   ]
  },
  {
   "cell_type": "markdown",
   "id": "d9ccfdd8-979f-47bb-8f10-5fca86157f7a",
   "metadata": {
    "editable": true,
    "slideshow": {
     "slide_type": "slide"
    },
    "tags": []
   },
   "source": [
    "<h2>1. Radici del progetto</h2>\n",
    "<h3>Motivazioni della ricerca</h3>\n",
    "<ul>\n",
    "    <li>Interesse verso l'industria dell'intrattenimento notturno 🌒</li>\n",
    "    <li>Importanza economica e culturale dei club nelle città</li>\n",
    "    <ul>\n",
    "        <li><i style=\"color: #FFA500;\">La techno berlinese diventa patrimonio immateriale dell’Unesco (2024)</i></li>\n",
    "    </ul>\n",
    "</ul>"
   ]
  },
  {
   "cell_type": "markdown",
   "id": "37fcdec3-4887-4b67-9406-fbfc8aca513c",
   "metadata": {
    "editable": true,
    "slideshow": {
     "slide_type": "fragment"
    },
    "tags": []
   },
   "source": [
    "<h3 style=\"padding-top: 10px;\">Origine dell'interesse nel settore</h3>\n",
    "<ul>\n",
    "    <li>Passione per la musica elettronica e gli eventi dal vivo</li>\n",
    "    <li>Esperienze dirette frequentando alcuni club di fama mondiale</li>\n",
    "    <li>Passione per il campo del DJing e della produzione musicale 🎧🎵</li>\n",
    "</ul>"
   ]
  },
  {
   "cell_type": "markdown",
   "id": "83695600-72bd-4b4d-97d5-1137efa92700",
   "metadata": {
    "editable": true,
    "slideshow": {
     "slide_type": "subslide"
    },
    "tags": []
   },
   "source": [
    "<h3>Focus dell'analisi 🔍</h3>\n",
    "<ul>\n",
    "    <li>Quali elementi contribuiscono al successo di un club?</li>\n",
    "</ul>"
   ]
  },
  {
   "cell_type": "markdown",
   "id": "7d12c8a8-f19f-4d97-ad6f-9cd500dc3d71",
   "metadata": {
    "editable": true,
    "slideshow": {
     "slide_type": "fragment"
    },
    "tags": []
   },
   "source": [
    "<ul>\n",
    "    <li>Quali sono le tendenze emergenti nel panorama dei club?</li>\n",
    "</ul>"
   ]
  },
  {
   "cell_type": "markdown",
   "id": "86815581-6f67-4485-83aa-9b23af502beb",
   "metadata": {
    "editable": true,
    "slideshow": {
     "slide_type": "fragment"
    },
    "tags": []
   },
   "source": [
    "<ul>\n",
    "    <li>Come varia la popolarità dei club in diverse regioni geografiche?</li>\n",
    "</ul>"
   ]
  },
  {
   "cell_type": "markdown",
   "id": "0b00959f-2fed-4be5-ae92-a2538d8b6488",
   "metadata": {
    "editable": true,
    "slideshow": {
     "slide_type": "fragment"
    },
    "tags": []
   },
   "source": [
    "<ul>\n",
    "    <li>Come è evoluta la classifica dei top 100 club dal 2018 al 2024?</li>\n",
    "</ul>"
   ]
  },
  {
   "cell_type": "markdown",
   "id": "6e887b40-f33c-4d27-a59e-9db2af067401",
   "metadata": {
    "editable": true,
    "slideshow": {
     "slide_type": "slide"
    },
    "tags": []
   },
   "source": [
    "<h2>2. Descrizione dei dati</h2>\n",
    "<p>I dati utilizzati provengono dalla classifica realizzata da<br>DJ Magazine dei top 100 club (al mondo) dal 2018 al 2024 🌍</p>\n",
    "<ul>\n",
    "    <li>Il dataset contiene informazioni su:</li>\n",
    "    <ul>\n",
    "        <li>Posizione in classifica</li>\n",
    "        <li>Nome del club</li>\n",
    "        <li>Città e altre metriche rilevanti</li>\n",
    "    </ul>\n",
    "</ul>"
   ]
  },
  {
   "cell_type": "markdown",
   "id": "9cddd2cf-e344-422b-b7eb-51166f9cc75d",
   "metadata": {
    "editable": true,
    "slideshow": {
     "slide_type": "fragment"
    },
    "tags": []
   },
   "source": [
    "<ul style=\"margin-top: 1em;\">\n",
    "    <li>Alcuni dati che sarebbero stati interessanti includono:</li>\n",
    "    <ul>\n",
    "        <li>Specifiche demografiche dei frequentatori</li>\n",
    "        <li>Entrate finanziarie 💰</li>\n",
    "        <li>Genere musicale principale</li>\n",
    "    </ul>\n",
    "</ul>"
   ]
  },
  {
   "cell_type": "markdown",
   "id": "ea3759d7-bb2f-41a6-b720-ae8509fafad0",
   "metadata": {
    "editable": true,
    "slideshow": {
     "slide_type": "subslide"
    },
    "tags": []
   },
   "source": [
    "<h3>Campione parziale del dataset 📊</h3>\n",
    "<p style=\"padding-top: 10px; padding-bottom: 10px;\">Attenzione! Alcune colonne sono state omesse<br>per motivi di spazio e/o perchè poco utili a livello esemplificativo</p>"
   ]
  },
  {
   "cell_type": "code",
   "execution_count": 2,
   "id": "a9004e56-fb82-4139-9e00-af780b952e55",
   "metadata": {
    "editable": true,
    "jupyter": {
     "source_hidden": true
    },
    "slideshow": {
     "slide_type": ""
    },
    "tags": []
   },
   "outputs": [
    {
     "data": {
      "text/html": [
       "<div>\n",
       "<style scoped>\n",
       "    .dataframe tbody tr th:only-of-type {\n",
       "        vertical-align: middle;\n",
       "    }\n",
       "\n",
       "    .dataframe tbody tr th {\n",
       "        vertical-align: top;\n",
       "    }\n",
       "\n",
       "    .dataframe thead th {\n",
       "        text-align: right;\n",
       "    }\n",
       "</style>\n",
       "<table border=\"1\" class=\"dataframe\">\n",
       "  <thead>\n",
       "    <tr style=\"text-align: right;\">\n",
       "      <th></th>\n",
       "      <th>rank</th>\n",
       "      <th>name</th>\n",
       "      <th>city</th>\n",
       "      <th>country</th>\n",
       "      <th>capacity</th>\n",
       "      <th>arrow</th>\n",
       "      <th>numpos</th>\n",
       "      <th>year</th>\n",
       "    </tr>\n",
       "  </thead>\n",
       "  <tbody>\n",
       "    <tr>\n",
       "      <th>0</th>\n",
       "      <td>1</td>\n",
       "      <td>Green Valley</td>\n",
       "      <td>Camboriú</td>\n",
       "      <td>Brazil</td>\n",
       "      <td>12000</td>\n",
       "      <td>up</td>\n",
       "      <td>2</td>\n",
       "      <td>2018</td>\n",
       "    </tr>\n",
       "    <tr>\n",
       "      <th>1</th>\n",
       "      <td>2</td>\n",
       "      <td>Ushuaïa Ibiza</td>\n",
       "      <td>Playa D’en Bossa</td>\n",
       "      <td>Ibiza</td>\n",
       "      <td>5000</td>\n",
       "      <td>up</td>\n",
       "      <td>2</td>\n",
       "      <td>2018</td>\n",
       "    </tr>\n",
       "    <tr>\n",
       "      <th>2</th>\n",
       "      <td>3</td>\n",
       "      <td>Zouk Singapore</td>\n",
       "      <td>Singapore</td>\n",
       "      <td>Unknown</td>\n",
       "      <td>2600</td>\n",
       "      <td>up</td>\n",
       "      <td>1</td>\n",
       "      <td>2018</td>\n",
       "    </tr>\n",
       "    <tr>\n",
       "      <th>3</th>\n",
       "      <td>4</td>\n",
       "      <td>Echostage</td>\n",
       "      <td>Washington</td>\n",
       "      <td>D.C.</td>\n",
       "      <td>3000</td>\n",
       "      <td>up</td>\n",
       "      <td>4</td>\n",
       "      <td>2018</td>\n",
       "    </tr>\n",
       "    <tr>\n",
       "      <th>4</th>\n",
       "      <td>5</td>\n",
       "      <td>Hï Ibiza</td>\n",
       "      <td>Ibiza</td>\n",
       "      <td>Spain</td>\n",
       "      <td>3000</td>\n",
       "      <td>Undefined</td>\n",
       "      <td>new entry</td>\n",
       "      <td>2018</td>\n",
       "    </tr>\n",
       "  </tbody>\n",
       "</table>\n",
       "</div>"
      ],
      "text/plain": [
       "   rank            name              city  country capacity      arrow  \\\n",
       "0     1    Green Valley          Camboriú   Brazil    12000         up   \n",
       "1     2   Ushuaïa Ibiza  Playa D’en Bossa    Ibiza     5000         up   \n",
       "2     3  Zouk Singapore         Singapore  Unknown     2600         up   \n",
       "3     4       Echostage        Washington     D.C.     3000         up   \n",
       "4     5        Hï Ibiza             Ibiza    Spain     3000  Undefined   \n",
       "\n",
       "      numpos  year  \n",
       "0          2  2018  \n",
       "1          2  2018  \n",
       "2          1  2018  \n",
       "3          4  2018  \n",
       "4  new entry  2018  "
      ]
     },
     "metadata": {},
     "output_type": "display_data"
    }
   ],
   "source": [
    "import numpy as np\n",
    "import pandas as pd\n",
    "\n",
    "import matplotlib.pyplot as plt\n",
    "import matplotlib.ticker as ticker\n",
    "\n",
    "df = pd.read_json('datasets/top_clubs_2018_2024_fixed.json')\n",
    "partial_df = df.drop(['lat', 'lng'], axis=1).head(5)\n",
    "\n",
    "display(partial_df)"
   ]
  },
  {
   "cell_type": "markdown",
   "id": "030edf07-96d2-4ad5-95c4-9ee9765bbf2a",
   "metadata": {
    "editable": true,
    "slideshow": {
     "slide_type": ""
    },
    "tags": []
   },
   "source": [
    "<p>ecc.</p>\n",
    "\n",
    "<p>L'ultima modifica al <i>dataset</i> risale al 10/06/2024</p>"
   ]
  },
  {
   "cell_type": "markdown",
   "id": "a2c746a3-e101-4af8-8027-fd1848335eb8",
   "metadata": {
    "editable": true,
    "slideshow": {
     "slide_type": "subslide"
    },
    "tags": []
   },
   "source": [
    "<h3>Come sono stati ottenuti questi dati <i style=\"color: #FFA500;\">step-by-step</i></h3>\n",
    "<ul>\n",
    "    <li>🔍 Analisi della struttura del sito web</li>\n",
    "    <ul>\n",
    "        <li>URL: djmag.com/top100clubs/{year}</li>\n",
    "    </ul>\n",
    "</ul>"
   ]
  },
  {
   "cell_type": "markdown",
   "id": "5afbaea0-17dc-4686-8d37-765ea9b90b94",
   "metadata": {
    "editable": true,
    "slideshow": {
     "slide_type": "fragment"
    },
    "tags": []
   },
   "source": [
    "<ul>\n",
    "    <li>🛠️ Realizzazione di un <i style=\"color: #FFA500;\">web scraper</i></li>\n",
    "    <ul>\n",
    "        <li>Raccolta e normalizzazione dei dati in un file JSON</li></li>\n",
    "    </ul>\n",
    "</ul>"
   ]
  },
  {
   "cell_type": "markdown",
   "id": "2067c32c-d856-4c6e-8329-782f864f0733",
   "metadata": {
    "editable": true,
    "slideshow": {
     "slide_type": "fragment"
    },
    "tags": []
   },
   "source": [
    "<ul>\n",
    "    <li>📝 Normalizzazione manuale</li>\n",
    "    <ul>\n",
    "        <li>Aggiustamenti necessari post-raccolta</li>\n",
    "    </ul>\n",
    "</ul>\n",
    "\n",
    "<p style=\"padding-top:10px;\">Il <i>dataset</i> e il <i>codice sorgente</i> del web scraper sono reperibili online sulla pagina GitHub @riccardopetrii</p>"
   ]
  },
  {
   "cell_type": "markdown",
   "id": "1b8d765e-da1e-48da-bec4-21c1e8020132",
   "metadata": {
    "editable": true,
    "slideshow": {
     "slide_type": "slide"
    },
    "tags": []
   },
   "source": [
    "<h2>3. Analisi effettuata</h2>\n",
    "<h3>Indice</h3>\n",
    "<ul>\n",
    "    <li>3.1 ASDASDASD</li>\n",
    "    <li>3.2 Qual'è il club in tendenza degli ultimi anni? Quale invece ha avuto la maggior regressione?</li>\n",
    "    <li>3.3 ASDASDASD</li>\n",
    "    <li>3.4 ASDASDASD</li>\n",
    "</ul>"
   ]
  },
  {
   "cell_type": "markdown",
   "id": "9a558e3d-e731-4eab-97e3-d257e76f724e",
   "metadata": {
    "editable": true,
    "slideshow": {
     "slide_type": "slide"
    },
    "tags": []
   },
   "source": [
    "<h2>3.1 Club in tendenza 🕺🪩</h2>\n",
    "<p style=\"padding-bottom: 0px !important;\">Il club in tendenza degli ultimi anni è <i>'Studio 338'</i> con una differenza di 70 posizioni</p>"
   ]
  },
  {
   "cell_type": "code",
   "execution_count": 3,
   "id": "3567678d-85a9-421c-9a93-f7f94a0becba",
   "metadata": {
    "editable": true,
    "jupyter": {
     "source_hidden": true
    },
    "slideshow": {
     "slide_type": ""
    },
    "tags": []
   },
   "outputs": [],
   "source": [
    "# find the club that climbed the rankings the most\n",
    "\n",
    "# if the value is not a number replace it with NaN\n",
    "df['rank'] = pd.to_numeric(df['rank'], errors='coerce')\n",
    "df['numpos'] = pd.to_numeric(df['numpos'], errors='coerce')\n",
    "df['year'] = pd.to_numeric(df['year'], errors='coerce')\n",
    "\n",
    "# look for clubs with missing values and drop it\n",
    "df = df.dropna(subset=['rank', 'name', 'year'])\n",
    "\n",
    "# sort clubs by year, group by name and for each group get the rank of the first avaiable year\n",
    "initial_positions = df.sort_values(by='year').groupby('name')['rank'].first()\n",
    "\n",
    "# same but for each group get the rank of the last avaiable year\n",
    "final_positions = df.sort_values(by='year').groupby('name')['rank'].last()\n",
    "\n",
    "position_change = initial_positions - final_positions # the value can be negative\n",
    "\n",
    "max_climb_club = position_change.idxmax() # return index of the maximum value (name)\n",
    "max_climb_value = position_change.max() # return the maximum value"
   ]
  },
  {
   "cell_type": "code",
   "execution_count": 4,
   "id": "ae073c2b-0d3a-4a84-8ab6-367303a49531",
   "metadata": {
    "editable": true,
    "jupyter": {
     "source_hidden": true
    },
    "slideshow": {
     "slide_type": ""
    },
    "tags": []
   },
   "outputs": [
    {
     "data": {
      "image/png": "[encoded data removed]",
      "text/plain": [
       "<Figure size 900x500 with 1 Axes>"
      ]
     },
     "metadata": {},
     "output_type": "display_data"
    }
   ],
   "source": [
    "# draw the graph of the club that climbed the rankings the most\n",
    "\n",
    "max_climb_club_df = df[df['name'] == max_climb_club]\n",
    "\n",
    "plt.figure(figsize=(9, 5))\n",
    "plt.margins(0.15, 0.05) # default value 0.05\n",
    "\n",
    "# trendline\n",
    "z = np.polyfit(max_climb_club_df['year'], max_climb_club_df['rank'], 1)\n",
    "p = np.poly1d(z)\n",
    "\n",
    "plt.plot(max_climb_club_df['year'], p(max_climb_club_df['year']), linestyle='--', color=\"#ffc353\", label='Tendenza')\n",
    "plt.plot(max_climb_club_df['year'], max_climb_club_df['rank'], marker='o', linestyle='-', color='navy')\n",
    "\n",
    "for x, y in zip(max_climb_club_df['year'], max_climb_club_df['rank']):\n",
    "    plt.text(x+.06, y+0.09, y, ha='left', va='top', fontsize='small')\n",
    "\n",
    "plt.title(f\"Nome del club: {max_climb_club}\")\n",
    "plt.xlabel(\"Anno\")\n",
    "plt.ylabel(\"Posizione in classifica\")\n",
    "plt.gca().invert_yaxis()\n",
    "plt.grid(color='lightgray', linewidth = 0.5)\n",
    "\n",
    "rank_diff = np.abs(np.diff(max_climb_club_df['rank'].to_numpy()))\n",
    "max_diff_index = np.argmax(rank_diff)\n",
    "\n",
    "start_year = max_climb_club_df.iloc[max_diff_index]['year']\n",
    "end_year = max_climb_club_df.iloc[max_diff_index + 1]['year']\n",
    "\n",
    "plt.axvspan(start_year, end_year, color='gray', alpha=0.2, label=\"Massimo\")\n",
    "\n",
    "plt.legend()\n",
    "plt.show()"
   ]
  },
  {
   "cell_type": "markdown",
   "id": "1656068a-bacd-4426-97f8-fad6ed197cac",
   "metadata": {
    "editable": true,
    "slideshow": {
     "slide_type": "subslide"
    },
    "tags": []
   },
   "source": [
    "<h2>Maggior regressione 📉</h2>\n",
    "<p style=\"padding-bottom: 0px !important;\">Il club con la maggior regressione degli ultimi anni è <i>'EGG LDN'</i> con una differenza di 60 posizioni</p>"
   ]
  },
  {
   "cell_type": "code",
   "execution_count": 5,
   "id": "6e0a40e4-2779-4e74-b756-0ffe0b7ced1a",
   "metadata": {
    "editable": true,
    "jupyter": {
     "source_hidden": true
    },
    "slideshow": {
     "slide_type": ""
    },
    "tags": []
   },
   "outputs": [],
   "source": [
    "# find the club that dropped in the rankings the most\n",
    "\n",
    "min_climb_club = position_change.idxmin() # return index of the minimum value (name)\n",
    "min_climb_value = position_change.min() # return the minimum value"
   ]
  },
  {
   "cell_type": "code",
   "execution_count": 6,
   "id": "dd105664-6f8e-4f5e-ac82-cd76f63bfb2b",
   "metadata": {
    "editable": true,
    "jupyter": {
     "source_hidden": true
    },
    "slideshow": {
     "slide_type": ""
    },
    "tags": []
   },
   "outputs": [
    {
     "data": {
      "image/png": "[encoded data removed]",
      "text/plain": [
       "<Figure size 900x500 with 1 Axes>"
      ]
     },
     "metadata": {},
     "output_type": "display_data"
    }
   ],
   "source": [
    "# draw the graph of the club that dropped in the rankings the most\n",
    "\n",
    "min_climb_club_df = df[df['name'] == min_climb_club]\n",
    "\n",
    "plt.figure(figsize=(9, 5))\n",
    "plt.margins(0.15, 0.05) # default value 0.05\n",
    "\n",
    "# trendline\n",
    "z = np.polyfit(min_climb_club_df['year'], min_climb_club_df['rank'], 1)\n",
    "p = np.poly1d(z)\n",
    "\n",
    "plt.plot(min_climb_club_df['year'], p(min_climb_club_df['year']), linestyle='--', color=\"#ffc353\", label='Tendenza')\n",
    "plt.plot(min_climb_club_df['year'], min_climb_club_df['rank'], marker='o', linestyle='-', color='navy')\n",
    "\n",
    "for x, y in zip(min_climb_club_df['year'], min_climb_club_df['rank']):\n",
    "    plt.text(x-.06, y+.09, y, ha='right', va='top', fontsize='small')\n",
    "\n",
    "plt.gca().xaxis.set_major_locator(ticker.FixedLocator(min_climb_club_df['year']))\n",
    "\n",
    "plt.title(f\"Nome del club: {min_climb_club}\")\n",
    "plt.xlabel(\"Anno\")\n",
    "plt.ylabel(\"Posizione in classifica\")\n",
    "plt.gca().invert_yaxis()\n",
    "plt.grid(color='lightgray', linewidth = 0.5)\n",
    "\n",
    "rank_diff = np.abs(np.diff(min_climb_club_df['rank'].to_numpy()))\n",
    "min_diff_index = np.argmax(rank_diff)\n",
    "\n",
    "start_year = min_climb_club_df.iloc[min_diff_index]['year']\n",
    "end_year = min_climb_club_df.iloc[min_diff_index + 1]['year']\n",
    "\n",
    "plt.axvspan(start_year, end_year, color='gray', alpha=0.2, label=\"Minimo\")\n",
    "plt.axvspan(2021, 2022, color='lightcoral', alpha=0.2, label=\"Fuori classifica\") # checked\n",
    "\n",
    "plt.legend()\n",
    "plt.show()"
   ]
  },
  {
   "cell_type": "markdown",
   "id": "0a0e0d34-6d5f-42d6-a563-2c16fe45bcb1",
   "metadata": {
    "editable": true,
    "slideshow": {
     "slide_type": "slide"
    },
    "tags": []
   },
   "source": [
    "<h2>3.2 Andamento delle <i>'New entry'</i> e <i>'Re-entry'</i></h2>\n",
    "<p style=\"padding-bottom: 0px !important;\">L'anno in cui è stato registrato il maggior numero<br>di 'New entry' è il 2020, mentre per i 'Re-entry' è il 2018</p>"
   ]
  },
  {
   "cell_type": "code",
   "execution_count": 7,
   "id": "5d42c328-5001-43a8-9376-4ffccb145673",
   "metadata": {
    "editable": true,
    "jupyter": {
     "source_hidden": true
    },
    "slideshow": {
     "slide_type": ""
    },
    "tags": []
   },
   "outputs": [
    {
     "data": {
      "image/png": "[encoded data removed]",
      "text/plain": [
       "<Figure size 900x500 with 1 Axes>"
      ]
     },
     "metadata": {},
     "output_type": "display_data"
    }
   ],
   "source": [
    "df = pd.read_json('datasets/top_clubs_2018_2024_fixed.json') # temp\n",
    "\n",
    "new_entries = df[df['numpos'] == 'new entry'].groupby('year').size()\n",
    "re_entries = df[df['numpos'] == 're-entry'].groupby('year').size()\n",
    "\n",
    "years = df['year'].unique()\n",
    "years.sort()\n",
    "\n",
    "new_entries_counts = [new_entries.get(year, 0) for year in years]\n",
    "re_entries_counts = [re_entries.get(year, 0) for year in years]\n",
    "\n",
    "barWidth = 0.25\n",
    "fig, ax = plt.subplots(figsize =(9, 5))\n",
    "\n",
    "br1 = np.arange(len(years))\n",
    "br2 = [x + barWidth for x in br1]\n",
    "\n",
    "plt.bar(br1, new_entries_counts, color ='#004c6d', width = barWidth, edgecolor ='grey', label ='New entry')\n",
    "plt.bar(br2, re_entries_counts, color ='#9dc6e0', width = barWidth, edgecolor ='grey', label ='Re-entry')\n",
    "\n",
    "plt.xlabel('Anno')\n",
    "plt.ylabel('Numero di club')\n",
    "plt.xticks([r + barWidth/2 for r in range(len(years))], years)\n",
    "\n",
    "plt.legend()\n",
    "plt.tight_layout()\n",
    "plt.show()"
   ]
  },
  {
   "cell_type": "markdown",
   "id": "d87812f6-300f-47fa-84f8-8637665cf747",
   "metadata": {},
   "source": [
    "<h2>4. Conclusioni e valutazioni finali</h2>\n",
    "<p>ASDASDASD</p>\n",
    "<p>ASDASDASD</p>\n",
    "<p>ASDASDASD</p>"
   ]
  },
  {
   "cell_type": "code",
   "execution_count": null,
   "id": "5b698f50-c87f-4b2a-bc85-d0a465c370fa",
   "metadata": {},
   "outputs": [],
   "source": []
  }
 ],
 "metadata": {
  "kernelspec": {
   "display_name": "Python 3 (ipykernel)",
   "language": "python",
   "name": "python3"
  },
  "language_info": {
   "codemirror_mode": {
    "name": "ipython",
    "version": 3
   },
   "file_extension": ".py",
   "mimetype": "text/x-python",
   "name": "python",
   "nbconvert_exporter": "python",
   "pygments_lexer": "ipython3",
   "version": "3.12.4"
  }
 },
 "nbformat": 4,
 "nbformat_minor": 5
}
